{
 "cells": [
  {
   "cell_type": "markdown",
   "id": "f0a482e7-bca8-4137-a305-bb8a605c9f8d",
   "metadata": {},
   "source": [
    "# **Introduction to Pandas - Series**\n",
    "\n",
    "## **Pandas**\n",
    "\n",
    "Pandas is a Python library used for data analysis and adata manipulation, , provides easy-to-use data structures and functions that make working with structured data fast and efficient.\n",
    "\n",
    "## **Series**\n",
    "\n",
    "A Series is a one-dimensional array-like object that can hold various data types (integers, floats, strings, etc.). Think of it as a single column in a spreadsheet or a SQL table. Each element in a Series has a unique label, known as an index, which can be an integer or a custom label.\n",
    "\n",
    "**Key Characteristics**\n",
    "\n",
    "* **1-Dimension:** it represents a single column.\n",
    "* **Homogeneous:** All values in a Series must be the same data type.\n",
    "* **Mutable:** The values in a Series can be chaanged\n",
    "* **Indexed:** Each value is related with an index, which provides a way to acces data"
   ]
  },
  {
   "cell_type": "code",
   "execution_count": 1,
   "id": "f57f2c2f-ba6a-4c8a-b113-70a468111350",
   "metadata": {},
   "outputs": [],
   "source": [
    "import pandas as pd"
   ]
  },
  {
   "cell_type": "markdown",
   "id": "e450953f-4f2c-4787-b9ab-5f0fa5306780",
   "metadata": {},
   "source": [
    "## **Creating A Series**"
   ]
  },
  {
   "cell_type": "code",
   "execution_count": 18,
   "id": "3a890c15-8b5d-45e8-a6e8-f8d57f198e71",
   "metadata": {},
   "outputs": [
    {
     "data": {
      "text/plain": [
       "0    Steffano\n",
       "1      Andres\n",
       "2    Veronica\n",
       "3      Susana\n",
       "4      Sandro\n",
       "5    Karolina\n",
       "6    Michelle\n",
       "7     Michael\n",
       "8     Josheph\n",
       "dtype: object"
      ]
     },
     "execution_count": 18,
     "metadata": {},
     "output_type": "execute_result"
    }
   ],
   "source": [
    "staff = [\"Steffano\", \"Andres\", \"Veronica\", \"Susana\", \"Sandro\", \"Karolina\", \"Michelle\", \"Michael\", \"Josheph\"]\n",
    "sr = pd.Series(staff)\n",
    "sr"
   ]
  },
  {
   "cell_type": "markdown",
   "id": "3fcd6ff1-e48f-4905-99d0-592a691c8115",
   "metadata": {},
   "source": [
    "### **Creating Series With Specific Index**"
   ]
  },
  {
   "cell_type": "code",
   "execution_count": 30,
   "id": "0da39be6-7106-4813-9561-6535b67528d3",
   "metadata": {},
   "outputs": [
    {
     "data": {
      "text/plain": [
       "Alex     22\n",
       "Don      24\n",
       "Abbie    34\n",
       "Susan    76\n",
       "Doe      19\n",
       "dtype: int64"
      ]
     },
     "execution_count": 30,
     "metadata": {},
     "output_type": "execute_result"
    }
   ],
   "source": [
    "ages = pd.Series(\n",
    "    [22, 24, 34, 76, 19],\n",
    "    index=[\"Alex\", \"Don\", \"Abbie\", \"Susan\", \"Doe\"]\n",
    ")\n",
    "ages"
   ]
  },
  {
   "cell_type": "markdown",
   "id": "20df1d28-bfe8-49ef-8d86-d66b81a74edb",
   "metadata": {},
   "source": [
    "## **Getting Information About Series**"
   ]
  },
  {
   "cell_type": "code",
   "execution_count": 19,
   "id": "7afce9e5-d35a-4a1c-9b14-050cc9df9382",
   "metadata": {},
   "outputs": [
    {
     "data": {
      "text/plain": [
       "(9,)"
      ]
     },
     "execution_count": 19,
     "metadata": {},
     "output_type": "execute_result"
    }
   ],
   "source": [
    "sr.shape"
   ]
  },
  {
   "cell_type": "code",
   "execution_count": 20,
   "id": "8510dbd1-8763-487c-b165-78231a363a32",
   "metadata": {},
   "outputs": [
    {
     "name": "stdout",
     "output_type": "stream",
     "text": [
      "<class 'pandas.core.series.Series'>\n",
      "RangeIndex: 9 entries, 0 to 8\n",
      "Series name: None\n",
      "Non-Null Count  Dtype \n",
      "--------------  ----- \n",
      "9 non-null      object\n",
      "dtypes: object(1)\n",
      "memory usage: 204.0+ bytes\n"
     ]
    }
   ],
   "source": [
    "sr.info()"
   ]
  },
  {
   "cell_type": "code",
   "execution_count": 21,
   "id": "84bdd7aa-2021-4c2d-a7da-e2adbbd91844",
   "metadata": {},
   "outputs": [
    {
     "data": {
      "text/plain": [
       "np.int64(0)"
      ]
     },
     "execution_count": 21,
     "metadata": {},
     "output_type": "execute_result"
    }
   ],
   "source": [
    "# verify for missing values\n",
    "sr.isna().sum()"
   ]
  },
  {
   "cell_type": "code",
   "execution_count": 22,
   "id": "81468759-22a3-4889-9889-f95bb1cb6608",
   "metadata": {},
   "outputs": [
    {
     "data": {
      "text/plain": [
       "dtype('O')"
      ]
     },
     "execution_count": 22,
     "metadata": {},
     "output_type": "execute_result"
    }
   ],
   "source": [
    "# data type\n",
    "sr.dtype"
   ]
  },
  {
   "cell_type": "code",
   "execution_count": 23,
   "id": "92e2967a-aae1-49ae-aaca-5a34270054ca",
   "metadata": {},
   "outputs": [
    {
     "data": {
      "text/plain": [
       "9"
      ]
     },
     "execution_count": 23,
     "metadata": {},
     "output_type": "execute_result"
    }
   ],
   "source": [
    "# number of elements\n",
    "sr.size"
   ]
  },
  {
   "cell_type": "markdown",
   "id": "9b2087f9-21a2-41da-9b2d-1823706c1ba7",
   "metadata": {},
   "source": [
    "## **Access to Items**"
   ]
  },
  {
   "cell_type": "code",
   "execution_count": 24,
   "id": "3a15bda4-2b61-455a-9e19-fcd03c7f1b31",
   "metadata": {},
   "outputs": [
    {
     "data": {
      "text/plain": [
       "'Steffano'"
      ]
     },
     "execution_count": 24,
     "metadata": {},
     "output_type": "execute_result"
    }
   ],
   "source": [
    "# get first element\n",
    "sr[0]"
   ]
  },
  {
   "cell_type": "code",
   "execution_count": 25,
   "id": "13c0227e-354a-4d15-a320-8e076b0ce7d1",
   "metadata": {},
   "outputs": [
    {
     "data": {
      "text/plain": [
       "0    Steffano\n",
       "1      Andres\n",
       "dtype: object"
      ]
     },
     "execution_count": 25,
     "metadata": {},
     "output_type": "execute_result"
    }
   ],
   "source": [
    "# get from start to end\n",
    "sr[0:2]"
   ]
  },
  {
   "cell_type": "code",
   "execution_count": 26,
   "id": "13336803-61dc-4222-befa-c36f6b35fa2e",
   "metadata": {},
   "outputs": [
    {
     "data": {
      "text/plain": [
       "'Steffano'"
      ]
     },
     "execution_count": 26,
     "metadata": {},
     "output_type": "execute_result"
    }
   ],
   "source": [
    "# using iloc - numeric index\n",
    "sr.iloc[0]"
   ]
  },
  {
   "cell_type": "code",
   "execution_count": 32,
   "id": "1c0aa14b-4fc9-482d-b3b8-620c2b2339bc",
   "metadata": {},
   "outputs": [
    {
     "data": {
      "text/plain": [
       "np.int64(22)"
      ]
     },
     "execution_count": 32,
     "metadata": {},
     "output_type": "execute_result"
    }
   ],
   "source": [
    "# using loc - object index\n",
    "ages.loc[\"Alex\"]"
   ]
  },
  {
   "cell_type": "code",
   "execution_count": 27,
   "id": "3cbfd4f2-be4a-495e-8907-2d12b4c1c026",
   "metadata": {},
   "outputs": [
    {
     "data": {
      "text/plain": [
       "0    Steffano\n",
       "2    Veronica\n",
       "4      Sandro\n",
       "6    Michelle\n",
       "8     Josheph\n",
       "dtype: object"
      ]
     },
     "execution_count": 27,
     "metadata": {},
     "output_type": "execute_result"
    }
   ],
   "source": [
    "# using step argument\n",
    "sr[::2]"
   ]
  },
  {
   "cell_type": "markdown",
   "id": "3ddac6c5-4f7a-4754-8577-54c662c770ed",
   "metadata": {},
   "source": [
    "## **Delete An Item**"
   ]
  },
  {
   "cell_type": "code",
   "execution_count": 28,
   "id": "86419f6b-ff33-4059-a66d-443938bf2fef",
   "metadata": {},
   "outputs": [],
   "source": [
    "# series.drop(index)\n",
    "sr.drop(0, inplace=True)"
   ]
  },
  {
   "cell_type": "code",
   "execution_count": 29,
   "id": "f6cd1cdd-4ff4-412e-a94c-25637b4d1dd6",
   "metadata": {},
   "outputs": [
    {
     "data": {
      "text/plain": [
       "1      Andres\n",
       "2    Veronica\n",
       "3      Susana\n",
       "4      Sandro\n",
       "5    Karolina\n",
       "6    Michelle\n",
       "7     Michael\n",
       "8     Josheph\n",
       "dtype: object"
      ]
     },
     "execution_count": 29,
     "metadata": {},
     "output_type": "execute_result"
    }
   ],
   "source": [
    "# after droppingabs\n",
    "sr"
   ]
  },
  {
   "cell_type": "code",
   "execution_count": null,
   "id": "d3ad1c63-b63e-4e83-bc08-c3408e1948aa",
   "metadata": {},
   "outputs": [],
   "source": []
  }
 ],
 "metadata": {
  "kernelspec": {
   "display_name": "Python (Basics)",
   "language": "python",
   "name": ".venv"
  },
  "language_info": {
   "codemirror_mode": {
    "name": "ipython",
    "version": 3
   },
   "file_extension": ".py",
   "mimetype": "text/x-python",
   "name": "python",
   "nbconvert_exporter": "python",
   "pygments_lexer": "ipython3",
   "version": "3.13.7"
  }
 },
 "nbformat": 4,
 "nbformat_minor": 5
}
