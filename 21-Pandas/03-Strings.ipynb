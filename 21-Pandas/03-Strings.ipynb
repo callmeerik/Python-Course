{
 "cells": [
  {
   "cell_type": "markdown",
   "id": "57ddbf5e-2ee1-4d10-9987-7a5c65395007",
   "metadata": {},
   "source": [
    "# **Handling Strings**"
   ]
  },
  {
   "cell_type": "markdown",
   "id": "5c945380-3eae-451c-a2d6-a68b8e060081",
   "metadata": {},
   "source": [
    "## **RegEx Cheat Sheet**\n",
    "\n",
    "<!DOCTYPE html>\n",
    "<html>\n",
    "<head>\n",
    "<style>\n",
    "table {\n",
    "  width: 100%;\n",
    "  border-collapse: collapse;\n",
    "}\n",
    "th, td {\n",
    "  border: 1px solid #ddd;\n",
    "  padding: 8px;\n",
    "  text-align: left;\n",
    "}\n",
    "th {\n",
    "  background-color: #f2f2f2;\n",
    "}\n",
    "</style>\n",
    "</head>\n",
    "<body>\n",
    "\n",
    "<table>\n",
    "  <thead>\n",
    "    <tr>\n",
    "      <th>Character/Pattern</th>\n",
    "      <th>Description</th>\n",
    "      <th>Example</th>\n",
    "      <th>Matches in \"SKU-987: Mouse (Used)\"</th>\n",
    "    </tr>\n",
    "  </thead>\n",
    "  <tbody>\n",
    "    <tr>\n",
    "      <td><code>^</code></td>\n",
    "      <td><strong>Start of a string.</strong></td>\n",
    "      <td><code>^SKU</code></td>\n",
    "      <td><code>SKU</code></td>\n",
    "    </tr>\n",
    "    <tr>\n",
    "      <td><code>$</code></td>\n",
    "      <td><strong>End of a string.</strong></td>\n",
    "      <td><code>Used)</code></td>\n",
    "      <td><code>Used)</code></td>\n",
    "    </tr>\n",
    "    <tr>\n",
    "      <td><code>.</code></td>\n",
    "      <td><strong>Any single character.</strong></td>\n",
    "      <td><code>s.e</code></td>\n",
    "      <td><code>se</code> in <code>Mouse</code></td>\n",
    "    </tr>\n",
    "    <tr>\n",
    "      <td><code>\\d</code></td>\n",
    "      <td><strong>Any digit</strong> (0-9).</td>\n",
    "      <td><code>\\d+</code></td>\n",
    "      <td><code>987</code></td>\n",
    "    </tr>\n",
    "    <tr>\n",
    "      <td><code>\\w</code></td>\n",
    "      <td><strong>Any \"word\" character</strong> (a-z, A-Z, 0-9, _).</td>\n",
    "      <td><code>\\w\\w\\w</code></td>\n",
    "      <td><code>SKU</code>, <code>987</code>, <code>Mou</code></td>\n",
    "    </tr>\n",
    "    <tr>\n",
    "      <td><code>\\s</code></td>\n",
    "      <td><strong>Any whitespace character</strong> (space, tab, newline).</td>\n",
    "      <td><code>Mouse\\s</code></td>\n",
    "      <td><code>Mouse </code></td>\n",
    "    </tr>\n",
    "    <tr>\n",
    "      <td><code>[...]</code></td>\n",
    "      <td><strong>A set of characters.</strong> Matches any one character inside the brackets.</td>\n",
    "      <td><code>[sS]KU</code></td>\n",
    "      <td><code>SKU</code></td>\n",
    "    </tr>\n",
    "    <tr>\n",
    "      <td><code>[^...]</code></td>\n",
    "      <td><strong>Negated set.</strong> Matches any single character <em>not</em> in the set.</td>\n",
    "      <td><code>[^:]</code></td>\n",
    "      <td>All characters <em>except</em> the colon <code>:</code></td>\n",
    "    </tr>\n",
    "    <tr>\n",
    "      <td><code>|</code></td>\n",
    "      <td><strong>Logical OR.</strong> Matches the pattern before or after the pipe.</td>\n",
    "      <td><code>Mouse|Keyboard</code></td>\n",
    "      <td><code>Mouse</code></td>\n",
    "    </tr>\n",
    "    <tr>\n",
    "      <td><code>(...)</code></td>\n",
    "      <td><strong>Grouping.</strong> Groups patterns together.</td>\n",
    "      <td><code>(\\w+)-(\\d+)</code></td>\n",
    "      <td>Captures <code>SKU</code> and <code>987</code> separately</td>\n",
    "    </tr>\n",
    "    <tr>\n",
    "      <td><code>{n}</code></td>\n",
    "      <td><strong>Quantifier: exactly n times.</strong></td>\n",
    "      <td><code>\\d{3}</code></td>\n",
    "      <td><code>987</code></td>\n",
    "    </tr>\n",
    "    <tr>\n",
    "      <td><code>{n,}</code></td>\n",
    "      <td><strong>Quantifier: at least n times.</strong></td>\n",
    "      <td><code>\\d{2,}</code></td>\n",
    "      <td><code>987</code></td>\n",
    "    </tr>\n",
    "    <tr>\n",
    "      <td><code>*</code></td>\n",
    "      <td><strong>Quantifier: zero or more</strong> of the preceding character.</td>\n",
    "      <td><code>a*</code> in <code>caat</code></td>\n",
    "      <td><code>aa</code></td>\n",
    "    </tr>\n",
    "    <tr>\n",
    "      <td><code>+</code></td>\n",
    "      <td><strong>Quantifier: one or more</strong> of the preceding character.</td>\n",
    "      <td><code>o+</code> in <code>booook</code></td>\n",
    "      <td><code>oooo</code></td>\n",
    "    </tr>\n",
    "    <tr>\n",
    "      <td><code>?</code></td>\n",
    "      <td><strong>Quantifier: zero or one</strong> of the preceding character (optional).</td>\n",
    "      <td><code>(Used)?</code></td>\n",
    "      <td><code>(Used)</code></td>\n",
    "    </tr>\n",
    "  </tbody>\n",
    "</table>\n",
    "\n",
    "</body>\n",
    "</html>"
   ]
  },
  {
   "cell_type": "code",
   "execution_count": 53,
   "id": "de99ea68-c285-469f-87a3-36844640129e",
   "metadata": {},
   "outputs": [],
   "source": [
    "import pandas as pd\n",
    "import numpy as np"
   ]
  },
  {
   "cell_type": "code",
   "execution_count": 8,
   "id": "34703b9b-3e13-4b91-ac50-c7927df2ef9a",
   "metadata": {},
   "outputs": [
    {
     "name": "stdout",
     "output_type": "stream",
     "text": [
      "      fruits\n",
      "0      apple\n",
      "1  orange   \n",
      "2     banada\n",
      "3  pineapple\n",
      "4      grape\n"
     ]
    }
   ],
   "source": [
    "data = {\n",
    "    \"fruits\": [\"apple\", \"orange   \", \"   banada\", \"pineapple\", \"grape\"]\n",
    "}\n",
    "fruits = pd.DataFrame(data)\n",
    "print(fruits)"
   ]
  },
  {
   "cell_type": "markdown",
   "id": "6f9c0561-7d27-4871-a516-d9dd9c0d08e9",
   "metadata": {},
   "source": [
    "### **String Methods**"
   ]
  },
  {
   "cell_type": "code",
   "execution_count": 9,
   "id": "9b2d7caf-57b9-4b03-b315-b50d7743f906",
   "metadata": {},
   "outputs": [
    {
     "data": {
      "text/plain": [
       "0        apple\n",
       "1       orange\n",
       "2       banada\n",
       "3    pineapple\n",
       "4        grape\n",
       "Name: fruits, dtype: object"
      ]
     },
     "execution_count": 9,
     "metadata": {},
     "output_type": "execute_result"
    }
   ],
   "source": [
    "# clean whitespaces\n",
    "fruits[\"fruits\"].str.strip()"
   ]
  },
  {
   "cell_type": "code",
   "execution_count": 10,
   "id": "e324b589-5ec0-4dd4-921b-fd80ec6e04be",
   "metadata": {},
   "outputs": [
    {
     "data": {
      "text/plain": [
       "0        APPLE\n",
       "1    ORANGE   \n",
       "2       BANADA\n",
       "3    PINEAPPLE\n",
       "4        GRAPE\n",
       "Name: fruits, dtype: object"
      ]
     },
     "execution_count": 10,
     "metadata": {},
     "output_type": "execute_result"
    }
   ],
   "source": [
    "# mayus\n",
    "fruits[\"fruits\"].str.upper()"
   ]
  },
  {
   "cell_type": "code",
   "execution_count": 11,
   "id": "8e37e86f-cce2-413b-ad89-4343e69077c0",
   "metadata": {},
   "outputs": [
    {
     "data": {
      "text/plain": [
       "0        apple\n",
       "1    orange   \n",
       "2       banada\n",
       "3    pineapple\n",
       "4        grape\n",
       "Name: fruits, dtype: object"
      ]
     },
     "execution_count": 11,
     "metadata": {},
     "output_type": "execute_result"
    }
   ],
   "source": [
    "# lower case\n",
    "fruits[\"fruits\"].str.lower()"
   ]
  },
  {
   "cell_type": "code",
   "execution_count": 12,
   "id": "55a2e56e-1183-4616-9b3f-67aaa2cbc338",
   "metadata": {},
   "outputs": [
    {
     "data": {
      "text/plain": [
       "0        Apple\n",
       "1    Orange   \n",
       "2       Banada\n",
       "3    Pineapple\n",
       "4        Grape\n",
       "Name: fruits, dtype: object"
      ]
     },
     "execution_count": 12,
     "metadata": {},
     "output_type": "execute_result"
    }
   ],
   "source": [
    "# title way\n",
    "fruits[\"fruits\"].str.title()"
   ]
  },
  {
   "cell_type": "code",
   "execution_count": 15,
   "id": "2350453c-1fbb-46c0-b851-592767a54374",
   "metadata": {},
   "outputs": [
    {
     "name": "stdout",
     "output_type": "stream",
     "text": [
      "0        Apple\n",
      "1       Orange\n",
      "2       Banada\n",
      "3    Pineapple\n",
      "4        Grape\n",
      "Name: fruits, dtype: object\n"
     ]
    }
   ],
   "source": [
    "fruits_cleaned = fruits[\"fruits\"].str.strip().str.title()\n",
    "print(fruits_cleaned)"
   ]
  },
  {
   "cell_type": "code",
   "execution_count": null,
   "id": "ed5bc020-652b-4ce5-9258-f285d9730a2c",
   "metadata": {},
   "outputs": [],
   "source": []
  },
  {
   "cell_type": "code",
   "execution_count": 18,
   "id": "63f568c2-43d1-4fa3-8bf1-24684184a5f4",
   "metadata": {},
   "outputs": [
    {
     "data": {
      "text/plain": [
       "0    ap\n",
       "1    or\n",
       "2      \n",
       "3    pi\n",
       "4    gr\n",
       "Name: fruits, dtype: object"
      ]
     },
     "execution_count": 18,
     "metadata": {},
     "output_type": "execute_result"
    }
   ],
   "source": [
    "# left\n",
    "fruits[\"fruits\"].str[:2]"
   ]
  },
  {
   "cell_type": "code",
   "execution_count": 20,
   "id": "3cffccd1-34a3-43ce-809a-d7aa869947e9",
   "metadata": {},
   "outputs": [
    {
     "data": {
      "text/plain": [
       "0    ple\n",
       "1       \n",
       "2    ada\n",
       "3    ple\n",
       "4    ape\n",
       "Name: fruits, dtype: object"
      ]
     },
     "execution_count": 20,
     "metadata": {},
     "output_type": "execute_result"
    }
   ],
   "source": [
    "# right - 3 characters from right\n",
    "fruits[\"fruits\"].str[-3:]"
   ]
  },
  {
   "cell_type": "code",
   "execution_count": 22,
   "id": "81ffa614-c93e-4217-8445-bc0f071ad7b1",
   "metadata": {},
   "outputs": [
    {
     "data": {
      "text/plain": [
       "0    ple\n",
       "1    ang\n",
       "2     ba\n",
       "3    nea\n",
       "4    ape\n",
       "Name: fruits, dtype: object"
      ]
     },
     "execution_count": 22,
     "metadata": {},
     "output_type": "execute_result"
    }
   ],
   "source": [
    "# mid\n",
    "fruits[\"fruits\"].str[2: 5]"
   ]
  },
  {
   "cell_type": "markdown",
   "id": "8b2c16b1-1ddc-4100-b4fa-5bebba54046a",
   "metadata": {},
   "source": [
    "### **Exercise**\n",
    "\n",
    "Given the next data, create a dataframe with columns sku, name_procut, and status"
   ]
  },
  {
   "cell_type": "code",
   "execution_count": 16,
   "id": "5072f5a3-c17c-4b83-a305-63654cae442b",
   "metadata": {},
   "outputs": [
    {
     "data": {
      "text/html": [
       "<div>\n",
       "<style scoped>\n",
       "    .dataframe tbody tr th:only-of-type {\n",
       "        vertical-align: middle;\n",
       "    }\n",
       "\n",
       "    .dataframe tbody tr th {\n",
       "        vertical-align: top;\n",
       "    }\n",
       "\n",
       "    .dataframe thead th {\n",
       "        text-align: right;\n",
       "    }\n",
       "</style>\n",
       "<table border=\"1\" class=\"dataframe\">\n",
       "  <thead>\n",
       "    <tr style=\"text-align: right;\">\n",
       "      <th></th>\n",
       "      <th>product_info</th>\n",
       "    </tr>\n",
       "  </thead>\n",
       "  <tbody>\n",
       "    <tr>\n",
       "      <th>0</th>\n",
       "      <td>SKU-10025: Laptop (New)</td>\n",
       "    </tr>\n",
       "    <tr>\n",
       "      <th>1</th>\n",
       "      <td>SKU-987: Mouse (Used-fair)</td>\n",
       "    </tr>\n",
       "    <tr>\n",
       "      <th>2</th>\n",
       "      <td>SKU-4001: Keyboard-wireless</td>\n",
       "    </tr>\n",
       "    <tr>\n",
       "      <th>3</th>\n",
       "      <td>SKU-2055: \"Monitor\" (Refurbished)</td>\n",
       "    </tr>\n",
       "    <tr>\n",
       "      <th>4</th>\n",
       "      <td>SKU-99: \"Webcam\" - new</td>\n",
       "    </tr>\n",
       "    <tr>\n",
       "      <th>5</th>\n",
       "      <td>SKU-10025: Headphones new</td>\n",
       "    </tr>\n",
       "  </tbody>\n",
       "</table>\n",
       "</div>"
      ],
      "text/plain": [
       "                        product_info\n",
       "0            SKU-10025: Laptop (New)\n",
       "1         SKU-987: Mouse (Used-fair)\n",
       "2        SKU-4001: Keyboard-wireless\n",
       "3  SKU-2055: \"Monitor\" (Refurbished)\n",
       "4             SKU-99: \"Webcam\" - new\n",
       "5          SKU-10025: Headphones new"
      ]
     },
     "execution_count": 16,
     "metadata": {},
     "output_type": "execute_result"
    }
   ],
   "source": [
    "data = {\n",
    "    'product_info': [\n",
    "        'SKU-10025: Laptop (New)', \n",
    "        'SKU-987: Mouse (Used-fair)', \n",
    "        'SKU-4001: Keyboard-wireless', \n",
    "        'SKU-2055: \"Monitor\" (Refurbished)',\n",
    "        'SKU-99: \"Webcam\" - new',\n",
    "        'SKU-10025: Headphones new' # Duplicate SKU\n",
    "    ]\n",
    "}\n",
    "df = pd.DataFrame(data)\n",
    "df"
   ]
  },
  {
   "cell_type": "code",
   "execution_count": 32,
   "id": "ef58ab49-ef89-4a85-a02f-8a0b9354f234",
   "metadata": {},
   "outputs": [],
   "source": [
    "df[\"sku\"] = df[\"product_info\"].str.split(\":\").str[0].str.split(\"-\").str[1]"
   ]
  },
  {
   "cell_type": "code",
   "execution_count": 39,
   "id": "696d6c96-8b91-431e-ae68-e44ffa0bec9e",
   "metadata": {},
   "outputs": [],
   "source": [
    "df[\"product_name\"] = df[\"product_info\"].str.split(\":\").str[1].str.split(\" \").str[1].str.replace('\"', '')"
   ]
  },
  {
   "cell_type": "code",
   "execution_count": 58,
   "id": "00779281-24f1-4f63-8f15-5632d8f3d2bc",
   "metadata": {},
   "outputs": [],
   "source": [
    "df[\"status\"] = df[\"product_info\"].str.split(\" \").str[-1].str\\\n",
    "    .replace(\"(\", \"\").str.replace(\")\", \"\")"
   ]
  },
  {
   "cell_type": "code",
   "execution_count": 62,
   "id": "11ca5f8e-ee68-4834-8cec-6ed9f587772d",
   "metadata": {},
   "outputs": [],
   "source": [
    "df[\"status\"] = df[\"status\"].str.replace(\"Keyboard-wireless\", \"Not available\")"
   ]
  },
  {
   "cell_type": "code",
   "execution_count": 63,
   "id": "eee9088a-689f-49d5-ae8d-ed1eaf41a8f9",
   "metadata": {},
   "outputs": [
    {
     "data": {
      "text/html": [
       "<div>\n",
       "<style scoped>\n",
       "    .dataframe tbody tr th:only-of-type {\n",
       "        vertical-align: middle;\n",
       "    }\n",
       "\n",
       "    .dataframe tbody tr th {\n",
       "        vertical-align: top;\n",
       "    }\n",
       "\n",
       "    .dataframe thead th {\n",
       "        text-align: right;\n",
       "    }\n",
       "</style>\n",
       "<table border=\"1\" class=\"dataframe\">\n",
       "  <thead>\n",
       "    <tr style=\"text-align: right;\">\n",
       "      <th></th>\n",
       "      <th>product_info</th>\n",
       "      <th>sku</th>\n",
       "      <th>product_name</th>\n",
       "      <th>status</th>\n",
       "    </tr>\n",
       "  </thead>\n",
       "  <tbody>\n",
       "    <tr>\n",
       "      <th>0</th>\n",
       "      <td>SKU-10025: Laptop (New)</td>\n",
       "      <td>10025</td>\n",
       "      <td>Laptop</td>\n",
       "      <td>New</td>\n",
       "    </tr>\n",
       "    <tr>\n",
       "      <th>1</th>\n",
       "      <td>SKU-987: Mouse (Used-fair)</td>\n",
       "      <td>987</td>\n",
       "      <td>Mouse</td>\n",
       "      <td>Used-fair</td>\n",
       "    </tr>\n",
       "    <tr>\n",
       "      <th>2</th>\n",
       "      <td>SKU-4001: Keyboard-wireless</td>\n",
       "      <td>4001</td>\n",
       "      <td>Keyboard-wireless</td>\n",
       "      <td>Not available</td>\n",
       "    </tr>\n",
       "    <tr>\n",
       "      <th>3</th>\n",
       "      <td>SKU-2055: \"Monitor\" (Refurbished)</td>\n",
       "      <td>2055</td>\n",
       "      <td>Monitor</td>\n",
       "      <td>Refurbished</td>\n",
       "    </tr>\n",
       "    <tr>\n",
       "      <th>4</th>\n",
       "      <td>SKU-99: \"Webcam\" - new</td>\n",
       "      <td>99</td>\n",
       "      <td>Webcam</td>\n",
       "      <td>new</td>\n",
       "    </tr>\n",
       "    <tr>\n",
       "      <th>5</th>\n",
       "      <td>SKU-10025: Headphones new</td>\n",
       "      <td>10025</td>\n",
       "      <td>Headphones</td>\n",
       "      <td>new</td>\n",
       "    </tr>\n",
       "  </tbody>\n",
       "</table>\n",
       "</div>"
      ],
      "text/plain": [
       "                        product_info    sku       product_name         status\n",
       "0            SKU-10025: Laptop (New)  10025             Laptop            New\n",
       "1         SKU-987: Mouse (Used-fair)    987              Mouse      Used-fair\n",
       "2        SKU-4001: Keyboard-wireless   4001  Keyboard-wireless  Not available\n",
       "3  SKU-2055: \"Monitor\" (Refurbished)   2055            Monitor    Refurbished\n",
       "4             SKU-99: \"Webcam\" - new     99             Webcam            new\n",
       "5          SKU-10025: Headphones new  10025         Headphones            new"
      ]
     },
     "execution_count": 63,
     "metadata": {},
     "output_type": "execute_result"
    }
   ],
   "source": [
    "df"
   ]
  },
  {
   "cell_type": "code",
   "execution_count": null,
   "id": "8f4bebd6-51db-4d60-bd31-7bd20349d37d",
   "metadata": {},
   "outputs": [],
   "source": []
  }
 ],
 "metadata": {
  "kernelspec": {
   "display_name": "Python (Basics)",
   "language": "python",
   "name": ".venv"
  },
  "language_info": {
   "codemirror_mode": {
    "name": "ipython",
    "version": 3
   },
   "file_extension": ".py",
   "mimetype": "text/x-python",
   "name": "python",
   "nbconvert_exporter": "python",
   "pygments_lexer": "ipython3",
   "version": "3.13.7"
  }
 },
 "nbformat": 4,
 "nbformat_minor": 5
}
