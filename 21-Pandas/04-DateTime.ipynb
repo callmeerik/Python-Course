{
 "cells": [
  {
   "cell_type": "markdown",
   "id": "7e0cd99c-f9d5-4937-8b22-d96d4da703ec",
   "metadata": {},
   "source": [
    "# **DateTime**"
   ]
  },
  {
   "cell_type": "code",
   "execution_count": 1,
   "id": "3a6e8e0a-a10f-4891-981c-0411ae4edaca",
   "metadata": {},
   "outputs": [],
   "source": [
    "import pandas as pd"
   ]
  },
  {
   "cell_type": "code",
   "execution_count": 25,
   "id": "649fa371-3321-4462-a0f4-55d38b462fdc",
   "metadata": {},
   "outputs": [
    {
     "data": {
      "text/html": [
       "<div>\n",
       "<style scoped>\n",
       "    .dataframe tbody tr th:only-of-type {\n",
       "        vertical-align: middle;\n",
       "    }\n",
       "\n",
       "    .dataframe tbody tr th {\n",
       "        vertical-align: top;\n",
       "    }\n",
       "\n",
       "    .dataframe thead th {\n",
       "        text-align: right;\n",
       "    }\n",
       "</style>\n",
       "<table border=\"1\" class=\"dataframe\">\n",
       "  <thead>\n",
       "    <tr style=\"text-align: right;\">\n",
       "      <th></th>\n",
       "      <th>event_datetime</th>\n",
       "      <th>sales</th>\n",
       "      <th>city</th>\n",
       "    </tr>\n",
       "  </thead>\n",
       "  <tbody>\n",
       "    <tr>\n",
       "      <th>0</th>\n",
       "      <td>2025-09-10 09:30</td>\n",
       "      <td>150</td>\n",
       "      <td>Quito</td>\n",
       "    </tr>\n",
       "    <tr>\n",
       "      <th>1</th>\n",
       "      <td>2025-09-11 14:45</td>\n",
       "      <td>200</td>\n",
       "      <td>Guayaquil</td>\n",
       "    </tr>\n",
       "    <tr>\n",
       "      <th>2</th>\n",
       "      <td>2025-09-12 11:00</td>\n",
       "      <td>180</td>\n",
       "      <td>Quito</td>\n",
       "    </tr>\n",
       "    <tr>\n",
       "      <th>3</th>\n",
       "      <td>2025-09-13 18:20</td>\n",
       "      <td>250</td>\n",
       "      <td>Quito</td>\n",
       "    </tr>\n",
       "    <tr>\n",
       "      <th>4</th>\n",
       "      <td>2025-09-14 10:15</td>\n",
       "      <td>190</td>\n",
       "      <td>Guayaquil</td>\n",
       "    </tr>\n",
       "    <tr>\n",
       "      <th>5</th>\n",
       "      <td>2025-09-15 13:00</td>\n",
       "      <td>210</td>\n",
       "      <td>Guayaquil</td>\n",
       "    </tr>\n",
       "    <tr>\n",
       "      <th>6</th>\n",
       "      <td>2025-09-16 09:00</td>\n",
       "      <td>220</td>\n",
       "      <td>Quito</td>\n",
       "    </tr>\n",
       "    <tr>\n",
       "      <th>7</th>\n",
       "      <td>2025-09-17 15:30</td>\n",
       "      <td>240</td>\n",
       "      <td>Quito</td>\n",
       "    </tr>\n",
       "    <tr>\n",
       "      <th>8</th>\n",
       "      <td>2025-09-18 20:00</td>\n",
       "      <td>300</td>\n",
       "      <td>Guayaquil</td>\n",
       "    </tr>\n",
       "    <tr>\n",
       "      <th>9</th>\n",
       "      <td>2025-09-19 12:00</td>\n",
       "      <td>215</td>\n",
       "      <td>Guayaquil</td>\n",
       "    </tr>\n",
       "  </tbody>\n",
       "</table>\n",
       "</div>"
      ],
      "text/plain": [
       "     event_datetime  sales       city\n",
       "0  2025-09-10 09:30    150      Quito\n",
       "1  2025-09-11 14:45    200  Guayaquil\n",
       "2  2025-09-12 11:00    180      Quito\n",
       "3  2025-09-13 18:20    250      Quito\n",
       "4  2025-09-14 10:15    190  Guayaquil\n",
       "5  2025-09-15 13:00    210  Guayaquil\n",
       "6  2025-09-16 09:00    220      Quito\n",
       "7  2025-09-17 15:30    240      Quito\n",
       "8  2025-09-18 20:00    300  Guayaquil\n",
       "9  2025-09-19 12:00    215  Guayaquil"
      ]
     },
     "execution_count": 25,
     "metadata": {},
     "output_type": "execute_result"
    }
   ],
   "source": [
    "data = {\n",
    "    'event_datetime': [\n",
    "        '2025-09-10 09:30',\n",
    "        '2025-09-11 14:45',\n",
    "        '2025-09-12 11:00',\n",
    "        '2025-09-13 18:20',\n",
    "        '2025-09-14 10:15',\n",
    "        '2025-09-15 13:00',\n",
    "        '2025-09-16 09:00',\n",
    "        '2025-09-17 15:30',\n",
    "        '2025-09-18 20:00',\n",
    "        '2025-09-19 12:00'\n",
    "    ],\n",
    "    'sales': [150, 200, 180, 250, 190, 210, 220, 240, 300, 215],\n",
    "    'city': ['Quito', 'Guayaquil', 'Quito', 'Quito', 'Guayaquil', 'Guayaquil', 'Quito', 'Quito', 'Guayaquil', 'Guayaquil']\n",
    "}\n",
    "df = pd.DataFrame(data)\n",
    "df"
   ]
  },
  {
   "cell_type": "code",
   "execution_count": 26,
   "id": "4f978214-0731-4892-9fdd-42faef09472a",
   "metadata": {},
   "outputs": [
    {
     "data": {
      "text/plain": [
       "dtype('O')"
      ]
     },
     "execution_count": 26,
     "metadata": {},
     "output_type": "execute_result"
    }
   ],
   "source": [
    "# verify the data type of event_datetime column\n",
    "df[\"event_datetime\"].dtype"
   ]
  },
  {
   "cell_type": "code",
   "execution_count": 27,
   "id": "a2777020-19ba-4459-bc44-4247bf4ed9ee",
   "metadata": {},
   "outputs": [],
   "source": [
    "# transform the datetime column to datetime data type\n",
    "df[\"event_datetime\"] = pd.to_datetime(df[\"event_datetime\"])"
   ]
  },
  {
   "cell_type": "code",
   "execution_count": 28,
   "id": "eb85bf2d-f417-47ac-8fc0-a185f656fced",
   "metadata": {},
   "outputs": [
    {
     "data": {
      "text/plain": [
       "event_datetime    datetime64[ns]\n",
       "sales                      int64\n",
       "city                      object\n",
       "dtype: object"
      ]
     },
     "execution_count": 28,
     "metadata": {},
     "output_type": "execute_result"
    }
   ],
   "source": [
    "df.dtypes"
   ]
  },
  {
   "cell_type": "markdown",
   "id": "46615582-1ce3-425f-8141-dd52cfffcac3",
   "metadata": {},
   "source": [
    "### **Operation with Datetime**"
   ]
  },
  {
   "cell_type": "code",
   "execution_count": 29,
   "id": "34f294bd-4fd9-4967-98ec-dea3a90039ea",
   "metadata": {},
   "outputs": [],
   "source": [
    "# extract the date\n",
    "df[\"sale_date\"] = df[\"event_datetime\"].dt.date\n",
    "\n",
    "# transfor the new column to datetime type\n",
    "df[\"sale_date\"] = pd.to_datetime(df[\"sale_date\"])"
   ]
  },
  {
   "cell_type": "code",
   "execution_count": 31,
   "id": "1eb61b5b-2d8d-4d35-aa8c-ef2639b9f78c",
   "metadata": {},
   "outputs": [],
   "source": [
    "# extract the time\n",
    "# 1. get time like string\n",
    "df[\"sale_time\"] = df[\"event_datetime\"].dt.strftime('%H:%M:%S')\n",
    "\n",
    "# 2. transfor to datetime\n",
    "df[\"sale_time\"] = pd.to_datetime(df[\"sale_time\"], format='%H:%M:%S')"
   ]
  },
  {
   "cell_type": "code",
   "execution_count": 33,
   "id": "636e3bf2-f45c-4f3a-b030-6c7a273680c8",
   "metadata": {},
   "outputs": [
    {
     "data": {
      "text/plain": [
       "event_datetime    datetime64[ns]\n",
       "sales                      int64\n",
       "city                      object\n",
       "sale_date         datetime64[ns]\n",
       "sale_time         datetime64[ns]\n",
       "dtype: object"
      ]
     },
     "execution_count": 33,
     "metadata": {},
     "output_type": "execute_result"
    }
   ],
   "source": [
    "df.dtypes"
   ]
  },
  {
   "cell_type": "markdown",
   "id": "4e18db97-ddb2-4302-aead-7a0a243d5b88",
   "metadata": {},
   "source": [
    "#### **Extract Infromation From Date and Tiem**"
   ]
  },
  {
   "cell_type": "code",
   "execution_count": 35,
   "id": "30d5cdbd-a63d-41b9-9ab9-2b179f7d112f",
   "metadata": {},
   "outputs": [],
   "source": [
    "# get year\n",
    "df[\"sale_year\"] = df[\"sale_date\"].dt.year"
   ]
  },
  {
   "cell_type": "code",
   "execution_count": 37,
   "id": "de9b86c0-2774-4e4f-b55f-bae301cf75e1",
   "metadata": {},
   "outputs": [],
   "source": [
    "# get month\n",
    "df[\"sale_month\"] = df[\"sale_date\"].dt.month"
   ]
  },
  {
   "cell_type": "code",
   "execution_count": 50,
   "id": "e71daf6a-bd55-456e-a2e0-373ed4bdd071",
   "metadata": {},
   "outputs": [],
   "source": [
    "# get the month name\n",
    "df[\"sale_month_name\"] = df[\"sale_date\"].dt.month_name('es')"
   ]
  },
  {
   "cell_type": "code",
   "execution_count": 51,
   "id": "b553d7ff-5e3b-40bf-9566-9b5d676b09c1",
   "metadata": {},
   "outputs": [],
   "source": [
    "# get day name\n",
    "df[\"sale_day\"] = df[\"sale_date\"].dt.day_name('es')"
   ]
  },
  {
   "cell_type": "code",
   "execution_count": 53,
   "id": "b66d5a72-272d-40c4-9d80-1362c7c2375d",
   "metadata": {},
   "outputs": [
    {
     "data": {
      "text/plain": [
       "0     9\n",
       "1    14\n",
       "2    11\n",
       "3    18\n",
       "4    10\n",
       "5    13\n",
       "6     9\n",
       "7    15\n",
       "8    20\n",
       "9    12\n",
       "Name: sale_time, dtype: int32"
      ]
     },
     "execution_count": 53,
     "metadata": {},
     "output_type": "execute_result"
    }
   ],
   "source": [
    "# get the hour\n",
    "df[\"sale_time\"].dt.hour"
   ]
  },
  {
   "cell_type": "code",
   "execution_count": null,
   "id": "bd144b5f-46d3-4be7-879b-7cd10ef2f7c5",
   "metadata": {},
   "outputs": [],
   "source": []
  }
 ],
 "metadata": {
  "kernelspec": {
   "display_name": "Python (Basics)",
   "language": "python",
   "name": ".venv"
  },
  "language_info": {
   "codemirror_mode": {
    "name": "ipython",
    "version": 3
   },
   "file_extension": ".py",
   "mimetype": "text/x-python",
   "name": "python",
   "nbconvert_exporter": "python",
   "pygments_lexer": "ipython3",
   "version": "3.13.7"
  }
 },
 "nbformat": 4,
 "nbformat_minor": 5
}
