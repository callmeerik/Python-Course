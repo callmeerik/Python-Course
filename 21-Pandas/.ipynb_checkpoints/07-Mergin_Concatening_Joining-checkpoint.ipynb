{
 "cells": [
  {
   "cell_type": "markdown",
   "id": "eb5b61f9-7bb4-4444-be19-fc13a71366b7",
   "metadata": {},
   "source": [
    "# **Merging, Concatening  and Joining**"
   ]
  },
  {
   "cell_type": "code",
   "execution_count": 1,
   "id": "cef1859f-2eeb-4836-aca2-07c4803f3d0a",
   "metadata": {},
   "outputs": [],
   "source": [
    "import numpy as np\n",
    "import pandas as pd"
   ]
  },
  {
   "cell_type": "code",
   "execution_count": 2,
   "id": "9feb69c5-354a-4f81-bb0b-dbb9851f595d",
   "metadata": {},
   "outputs": [],
   "source": [
    "df_products = pd.DataFrame({\n",
    "    'product_id': [1, 2, 3, 4],\n",
    "    'product_name': ['Laptop', 'Mouse', 'Keyboard', 'Monitor']\n",
    "})"
   ]
  },
  {
   "cell_type": "code",
   "execution_count": 3,
   "id": "d0769702-3068-489d-80df-27663af6445b",
   "metadata": {},
   "outputs": [],
   "source": [
    "df_sales = pd.DataFrame({\n",
    "    'sale_id': [101, 102, 103, 104],\n",
    "    'product_id': [2, 4, 1, 3],\n",
    "    'quantity': [5, 2, 8, 3]\n",
    "})"
   ]
  },
  {
   "cell_type": "code",
   "execution_count": 4,
   "id": "a28db56e-aeff-4eff-b6cf-b4a863851fbb",
   "metadata": {},
   "outputs": [
    {
     "name": "stdout",
     "output_type": "stream",
     "text": [
      "Product dataframe\n"
     ]
    },
    {
     "data": {
      "text/html": [
       "<div>\n",
       "<style scoped>\n",
       "    .dataframe tbody tr th:only-of-type {\n",
       "        vertical-align: middle;\n",
       "    }\n",
       "\n",
       "    .dataframe tbody tr th {\n",
       "        vertical-align: top;\n",
       "    }\n",
       "\n",
       "    .dataframe thead th {\n",
       "        text-align: right;\n",
       "    }\n",
       "</style>\n",
       "<table border=\"1\" class=\"dataframe\">\n",
       "  <thead>\n",
       "    <tr style=\"text-align: right;\">\n",
       "      <th></th>\n",
       "      <th>product_id</th>\n",
       "      <th>product_name</th>\n",
       "    </tr>\n",
       "  </thead>\n",
       "  <tbody>\n",
       "    <tr>\n",
       "      <th>0</th>\n",
       "      <td>1</td>\n",
       "      <td>Laptop</td>\n",
       "    </tr>\n",
       "    <tr>\n",
       "      <th>1</th>\n",
       "      <td>2</td>\n",
       "      <td>Mouse</td>\n",
       "    </tr>\n",
       "    <tr>\n",
       "      <th>2</th>\n",
       "      <td>3</td>\n",
       "      <td>Keyboard</td>\n",
       "    </tr>\n",
       "    <tr>\n",
       "      <th>3</th>\n",
       "      <td>4</td>\n",
       "      <td>Monitor</td>\n",
       "    </tr>\n",
       "  </tbody>\n",
       "</table>\n",
       "</div>"
      ],
      "text/plain": [
       "   product_id product_name\n",
       "0           1       Laptop\n",
       "1           2        Mouse\n",
       "2           3     Keyboard\n",
       "3           4      Monitor"
      ]
     },
     "execution_count": 4,
     "metadata": {},
     "output_type": "execute_result"
    }
   ],
   "source": [
    "print(\"Product dataframe\")\n",
    "df_products"
   ]
  },
  {
   "cell_type": "code",
   "execution_count": 5,
   "id": "6e1bf808-207d-4c57-b13c-6b6d0ddfeba7",
   "metadata": {},
   "outputs": [
    {
     "name": "stdout",
     "output_type": "stream",
     "text": [
      "Sales dataframe\n"
     ]
    },
    {
     "data": {
      "text/html": [
       "<div>\n",
       "<style scoped>\n",
       "    .dataframe tbody tr th:only-of-type {\n",
       "        vertical-align: middle;\n",
       "    }\n",
       "\n",
       "    .dataframe tbody tr th {\n",
       "        vertical-align: top;\n",
       "    }\n",
       "\n",
       "    .dataframe thead th {\n",
       "        text-align: right;\n",
       "    }\n",
       "</style>\n",
       "<table border=\"1\" class=\"dataframe\">\n",
       "  <thead>\n",
       "    <tr style=\"text-align: right;\">\n",
       "      <th></th>\n",
       "      <th>sale_id</th>\n",
       "      <th>product_id</th>\n",
       "      <th>quantity</th>\n",
       "    </tr>\n",
       "  </thead>\n",
       "  <tbody>\n",
       "    <tr>\n",
       "      <th>0</th>\n",
       "      <td>101</td>\n",
       "      <td>2</td>\n",
       "      <td>5</td>\n",
       "    </tr>\n",
       "    <tr>\n",
       "      <th>1</th>\n",
       "      <td>102</td>\n",
       "      <td>4</td>\n",
       "      <td>2</td>\n",
       "    </tr>\n",
       "    <tr>\n",
       "      <th>2</th>\n",
       "      <td>103</td>\n",
       "      <td>1</td>\n",
       "      <td>8</td>\n",
       "    </tr>\n",
       "    <tr>\n",
       "      <th>3</th>\n",
       "      <td>104</td>\n",
       "      <td>3</td>\n",
       "      <td>3</td>\n",
       "    </tr>\n",
       "  </tbody>\n",
       "</table>\n",
       "</div>"
      ],
      "text/plain": [
       "   sale_id  product_id  quantity\n",
       "0      101           2         5\n",
       "1      102           4         2\n",
       "2      103           1         8\n",
       "3      104           3         3"
      ]
     },
     "execution_count": 5,
     "metadata": {},
     "output_type": "execute_result"
    }
   ],
   "source": [
    "print(\"Sales dataframe\")\n",
    "df_sales"
   ]
  },
  {
   "cell_type": "markdown",
   "id": "2a6310de-2568-45bc-9415-114139603dc0",
   "metadata": {},
   "source": [
    "## **Concatenation**\n",
    "\n",
    "Use pd.concat() when you want to stack DataFrames. You can stack them vertically (adding rows) or horizontally (adding columns).\n",
    "\n",
    "Vertical Concatenation: This is the default. It's useful for combining data from different time periods or sources with the same columns."
   ]
  },
  {
   "cell_type": "code",
   "execution_count": 7,
   "id": "e75bbd1f-31c1-400e-939a-7fc7c32be166",
   "metadata": {},
   "outputs": [
    {
     "data": {
      "text/html": [
       "<div>\n",
       "<style scoped>\n",
       "    .dataframe tbody tr th:only-of-type {\n",
       "        vertical-align: middle;\n",
       "    }\n",
       "\n",
       "    .dataframe tbody tr th {\n",
       "        vertical-align: top;\n",
       "    }\n",
       "\n",
       "    .dataframe thead th {\n",
       "        text-align: right;\n",
       "    }\n",
       "</style>\n",
       "<table border=\"1\" class=\"dataframe\">\n",
       "  <thead>\n",
       "    <tr style=\"text-align: right;\">\n",
       "      <th></th>\n",
       "      <th>sale_id</th>\n",
       "      <th>product_id</th>\n",
       "      <th>quantity</th>\n",
       "    </tr>\n",
       "  </thead>\n",
       "  <tbody>\n",
       "    <tr>\n",
       "      <th>0</th>\n",
       "      <td>101</td>\n",
       "      <td>2</td>\n",
       "      <td>5</td>\n",
       "    </tr>\n",
       "    <tr>\n",
       "      <th>1</th>\n",
       "      <td>102</td>\n",
       "      <td>4</td>\n",
       "      <td>2</td>\n",
       "    </tr>\n",
       "    <tr>\n",
       "      <th>2</th>\n",
       "      <td>103</td>\n",
       "      <td>1</td>\n",
       "      <td>8</td>\n",
       "    </tr>\n",
       "    <tr>\n",
       "      <th>3</th>\n",
       "      <td>104</td>\n",
       "      <td>3</td>\n",
       "      <td>3</td>\n",
       "    </tr>\n",
       "    <tr>\n",
       "      <th>0</th>\n",
       "      <td>105</td>\n",
       "      <td>1</td>\n",
       "      <td>10</td>\n",
       "    </tr>\n",
       "    <tr>\n",
       "      <th>1</th>\n",
       "      <td>106</td>\n",
       "      <td>4</td>\n",
       "      <td>6</td>\n",
       "    </tr>\n",
       "  </tbody>\n",
       "</table>\n",
       "</div>"
      ],
      "text/plain": [
       "   sale_id  product_id  quantity\n",
       "0      101           2         5\n",
       "1      102           4         2\n",
       "2      103           1         8\n",
       "3      104           3         3\n",
       "0      105           1        10\n",
       "1      106           4         6"
      ]
     },
     "execution_count": 7,
     "metadata": {},
     "output_type": "execute_result"
    }
   ],
   "source": [
    "df_sales_2 = pd.DataFrame({\n",
    "    'sale_id': [105, 106],\n",
    "    'product_id': [1, 4],\n",
    "    'quantity': [10, 6]\n",
    "})\n",
    "\n",
    "# vertical concatenation\n",
    "combined_data = pd.concat([df_sales, df_sales_2])\n",
    "combined_data"
   ]
  },
  {
   "cell_type": "code",
   "execution_count": 9,
   "id": "a223781f-464b-479f-80bf-d73666a4c6c6",
   "metadata": {},
   "outputs": [
    {
     "data": {
      "text/html": [
       "<div>\n",
       "<style scoped>\n",
       "    .dataframe tbody tr th:only-of-type {\n",
       "        vertical-align: middle;\n",
       "    }\n",
       "\n",
       "    .dataframe tbody tr th {\n",
       "        vertical-align: top;\n",
       "    }\n",
       "\n",
       "    .dataframe thead th {\n",
       "        text-align: right;\n",
       "    }\n",
       "</style>\n",
       "<table border=\"1\" class=\"dataframe\">\n",
       "  <thead>\n",
       "    <tr style=\"text-align: right;\">\n",
       "      <th></th>\n",
       "      <th>product_id</th>\n",
       "      <th>product_name</th>\n",
       "      <th>sale_id</th>\n",
       "      <th>product_id</th>\n",
       "      <th>quantity</th>\n",
       "    </tr>\n",
       "  </thead>\n",
       "  <tbody>\n",
       "    <tr>\n",
       "      <th>0</th>\n",
       "      <td>1</td>\n",
       "      <td>Laptop</td>\n",
       "      <td>101</td>\n",
       "      <td>2</td>\n",
       "      <td>5</td>\n",
       "    </tr>\n",
       "    <tr>\n",
       "      <th>1</th>\n",
       "      <td>2</td>\n",
       "      <td>Mouse</td>\n",
       "      <td>102</td>\n",
       "      <td>4</td>\n",
       "      <td>2</td>\n",
       "    </tr>\n",
       "    <tr>\n",
       "      <th>2</th>\n",
       "      <td>3</td>\n",
       "      <td>Keyboard</td>\n",
       "      <td>103</td>\n",
       "      <td>1</td>\n",
       "      <td>8</td>\n",
       "    </tr>\n",
       "    <tr>\n",
       "      <th>3</th>\n",
       "      <td>4</td>\n",
       "      <td>Monitor</td>\n",
       "      <td>104</td>\n",
       "      <td>3</td>\n",
       "      <td>3</td>\n",
       "    </tr>\n",
       "  </tbody>\n",
       "</table>\n",
       "</div>"
      ],
      "text/plain": [
       "   product_id product_name  sale_id  product_id  quantity\n",
       "0           1       Laptop      101           2         5\n",
       "1           2        Mouse      102           4         2\n",
       "2           3     Keyboard      103           1         8\n",
       "3           4      Monitor      104           3         3"
      ]
     },
     "execution_count": 9,
     "metadata": {},
     "output_type": "execute_result"
    }
   ],
   "source": [
    "# horizontal concatenation\n",
    "combined_data = pd.concat([df_products, df_sales], axis=1)\n",
    "combined_data"
   ]
  },
  {
   "cell_type": "markdown",
   "id": "5700616d-3971-4e1c-97de-593dd5a60234",
   "metadata": {},
   "source": [
    "## **Merging**\n",
    "Use pd.merge() to combine DataFrames based on a common column. This is the most flexible way to perform joins.\n",
    "\n",
    "The on argument: This is the key column that links the DataFrames. Here, it's product_id.\n",
    "\n",
    "* Works like JOINS in SQL\n",
    "* Flexible\n",
    "\n",
    "### **Types of Merging DataFrames**\n",
    "\n",
    "* **`inner` (default):** Keeps only the rows with matching keys in both DataFrames.\n",
    "* **`outer`:** Keeps all rows from both DataFrames, filling NaN for non-matches.\n",
    "* **`left`:** Keeps all rows from the left DataFrame and finds matches in the right.\n",
    "* **`right`:** Keeps all rows from the right DataFrame and finds matches in the left."
   ]
  },
  {
   "cell_type": "code",
   "execution_count": 10,
   "id": "3cb3bab7-0231-4cf2-8950-160487cb9c19",
   "metadata": {},
   "outputs": [
    {
     "data": {
      "text/html": [
       "<div>\n",
       "<style scoped>\n",
       "    .dataframe tbody tr th:only-of-type {\n",
       "        vertical-align: middle;\n",
       "    }\n",
       "\n",
       "    .dataframe tbody tr th {\n",
       "        vertical-align: top;\n",
       "    }\n",
       "\n",
       "    .dataframe thead th {\n",
       "        text-align: right;\n",
       "    }\n",
       "</style>\n",
       "<table border=\"1\" class=\"dataframe\">\n",
       "  <thead>\n",
       "    <tr style=\"text-align: right;\">\n",
       "      <th></th>\n",
       "      <th>sale_id</th>\n",
       "      <th>product_id</th>\n",
       "      <th>quantity</th>\n",
       "      <th>product_name</th>\n",
       "    </tr>\n",
       "  </thead>\n",
       "  <tbody>\n",
       "    <tr>\n",
       "      <th>0</th>\n",
       "      <td>101</td>\n",
       "      <td>2</td>\n",
       "      <td>5</td>\n",
       "      <td>Mouse</td>\n",
       "    </tr>\n",
       "    <tr>\n",
       "      <th>1</th>\n",
       "      <td>102</td>\n",
       "      <td>4</td>\n",
       "      <td>2</td>\n",
       "      <td>Monitor</td>\n",
       "    </tr>\n",
       "    <tr>\n",
       "      <th>2</th>\n",
       "      <td>103</td>\n",
       "      <td>1</td>\n",
       "      <td>8</td>\n",
       "      <td>Laptop</td>\n",
       "    </tr>\n",
       "    <tr>\n",
       "      <th>3</th>\n",
       "      <td>104</td>\n",
       "      <td>3</td>\n",
       "      <td>3</td>\n",
       "      <td>Keyboard</td>\n",
       "    </tr>\n",
       "  </tbody>\n",
       "</table>\n",
       "</div>"
      ],
      "text/plain": [
       "   sale_id  product_id  quantity product_name\n",
       "0      101           2         5        Mouse\n",
       "1      102           4         2      Monitor\n",
       "2      103           1         8       Laptop\n",
       "3      104           3         3     Keyboard"
      ]
     },
     "execution_count": 10,
     "metadata": {},
     "output_type": "execute_result"
    }
   ],
   "source": [
    "merged_data = pd.merge(df_sales, df_products, on=\"product_id\", how=\"left\")\n",
    "merged_data"
   ]
  },
  {
   "cell_type": "code",
   "execution_count": 11,
   "id": "c5e40c66-e182-4927-a214-bcfc58a825fc",
   "metadata": {},
   "outputs": [
    {
     "data": {
      "text/html": [
       "<div>\n",
       "<style scoped>\n",
       "    .dataframe tbody tr th:only-of-type {\n",
       "        vertical-align: middle;\n",
       "    }\n",
       "\n",
       "    .dataframe tbody tr th {\n",
       "        vertical-align: top;\n",
       "    }\n",
       "\n",
       "    .dataframe thead th {\n",
       "        text-align: right;\n",
       "    }\n",
       "</style>\n",
       "<table border=\"1\" class=\"dataframe\">\n",
       "  <thead>\n",
       "    <tr style=\"text-align: right;\">\n",
       "      <th></th>\n",
       "      <th>sale_id</th>\n",
       "      <th>product_id</th>\n",
       "      <th>quantity</th>\n",
       "      <th>product_name</th>\n",
       "    </tr>\n",
       "  </thead>\n",
       "  <tbody>\n",
       "    <tr>\n",
       "      <th>0</th>\n",
       "      <td>103</td>\n",
       "      <td>1</td>\n",
       "      <td>8</td>\n",
       "      <td>Laptop</td>\n",
       "    </tr>\n",
       "    <tr>\n",
       "      <th>1</th>\n",
       "      <td>101</td>\n",
       "      <td>2</td>\n",
       "      <td>5</td>\n",
       "      <td>Mouse</td>\n",
       "    </tr>\n",
       "    <tr>\n",
       "      <th>2</th>\n",
       "      <td>104</td>\n",
       "      <td>3</td>\n",
       "      <td>3</td>\n",
       "      <td>Keyboard</td>\n",
       "    </tr>\n",
       "    <tr>\n",
       "      <th>3</th>\n",
       "      <td>102</td>\n",
       "      <td>4</td>\n",
       "      <td>2</td>\n",
       "      <td>Monitor</td>\n",
       "    </tr>\n",
       "  </tbody>\n",
       "</table>\n",
       "</div>"
      ],
      "text/plain": [
       "   sale_id  product_id  quantity product_name\n",
       "0      103           1         8       Laptop\n",
       "1      101           2         5        Mouse\n",
       "2      104           3         3     Keyboard\n",
       "3      102           4         2      Monitor"
      ]
     },
     "execution_count": 11,
     "metadata": {},
     "output_type": "execute_result"
    }
   ],
   "source": [
    "merged_data = pd.merge(df_sales, df_products, on=\"product_id\", how=\"right\")\n",
    "merged_data"
   ]
  },
  {
   "cell_type": "markdown",
   "id": "03934eb1-3b26-4d1f-8fda-730c34b1b9e9",
   "metadata": {},
   "source": [
    "##  **Joining**\n",
    "\n",
    "The .join() method is similar to merge(), but it's a DataFrame method and defaults to joining on the index."
   ]
  },
  {
   "cell_type": "code",
   "execution_count": 12,
   "id": "3562c19b-a5ea-4f87-9a42-43ae54e4fec0",
   "metadata": {},
   "outputs": [
    {
     "data": {
      "text/html": [
       "<div>\n",
       "<style scoped>\n",
       "    .dataframe tbody tr th:only-of-type {\n",
       "        vertical-align: middle;\n",
       "    }\n",
       "\n",
       "    .dataframe tbody tr th {\n",
       "        vertical-align: top;\n",
       "    }\n",
       "\n",
       "    .dataframe thead th {\n",
       "        text-align: right;\n",
       "    }\n",
       "</style>\n",
       "<table border=\"1\" class=\"dataframe\">\n",
       "  <thead>\n",
       "    <tr style=\"text-align: right;\">\n",
       "      <th></th>\n",
       "      <th>sale_id</th>\n",
       "      <th>quantity</th>\n",
       "      <th>product_name</th>\n",
       "    </tr>\n",
       "    <tr>\n",
       "      <th>product_id</th>\n",
       "      <th></th>\n",
       "      <th></th>\n",
       "      <th></th>\n",
       "    </tr>\n",
       "  </thead>\n",
       "  <tbody>\n",
       "    <tr>\n",
       "      <th>2</th>\n",
       "      <td>101</td>\n",
       "      <td>5</td>\n",
       "      <td>Mouse</td>\n",
       "    </tr>\n",
       "    <tr>\n",
       "      <th>4</th>\n",
       "      <td>102</td>\n",
       "      <td>2</td>\n",
       "      <td>Monitor</td>\n",
       "    </tr>\n",
       "    <tr>\n",
       "      <th>1</th>\n",
       "      <td>103</td>\n",
       "      <td>8</td>\n",
       "      <td>Laptop</td>\n",
       "    </tr>\n",
       "    <tr>\n",
       "      <th>3</th>\n",
       "      <td>104</td>\n",
       "      <td>3</td>\n",
       "      <td>Keyboard</td>\n",
       "    </tr>\n",
       "  </tbody>\n",
       "</table>\n",
       "</div>"
      ],
      "text/plain": [
       "            sale_id  quantity product_name\n",
       "product_id                                \n",
       "2               101         5        Mouse\n",
       "4               102         2      Monitor\n",
       "1               103         8       Laptop\n",
       "3               104         3     Keyboard"
      ]
     },
     "execution_count": 12,
     "metadata": {},
     "output_type": "execute_result"
    }
   ],
   "source": [
    "df_sales_indexed = df_sales.set_index(\"product_id\")\n",
    "df_products_indexed = df_products.set_index(\"product_id\")\n",
    "\n",
    "joined_data = df_sales_indexed.join(df_products_indexed)\n",
    "joined_data"
   ]
  },
  {
   "cell_type": "code",
   "execution_count": null,
   "id": "6012d58e-4c3d-4e29-b992-22c5709e9708",
   "metadata": {},
   "outputs": [],
   "source": []
  }
 ],
 "metadata": {
  "kernelspec": {
   "display_name": "Python (Basics)",
   "language": "python",
   "name": ".venv"
  },
  "language_info": {
   "codemirror_mode": {
    "name": "ipython",
    "version": 3
   },
   "file_extension": ".py",
   "mimetype": "text/x-python",
   "name": "python",
   "nbconvert_exporter": "python",
   "pygments_lexer": "ipython3",
   "version": "3.13.7"
  }
 },
 "nbformat": 4,
 "nbformat_minor": 5
}
