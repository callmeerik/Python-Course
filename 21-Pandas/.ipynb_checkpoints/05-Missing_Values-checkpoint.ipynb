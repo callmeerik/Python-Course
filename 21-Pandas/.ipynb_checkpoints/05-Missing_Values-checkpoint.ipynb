{
 "cells": [
  {
   "cell_type": "markdown",
   "id": "a6ae0863-73ce-4091-82b2-11b95ba0e4d0",
   "metadata": {},
   "source": [
    "# **Missing Values**"
   ]
  },
  {
   "cell_type": "code",
   "execution_count": null,
   "id": "5dc8dd11-3899-40ea-8df9-9afc5a63b120",
   "metadata": {},
   "outputs": [],
   "source": []
  }
 ],
 "metadata": {
  "kernelspec": {
   "display_name": "Python (Basics)",
   "language": "python",
   "name": ".venv"
  },
  "language_info": {
   "codemirror_mode": {
    "name": "ipython",
    "version": 3
   },
   "file_extension": ".py",
   "mimetype": "text/x-python",
   "name": "python",
   "nbconvert_exporter": "python",
   "pygments_lexer": "ipython3",
   "version": "3.13.7"
  }
 },
 "nbformat": 4,
 "nbformat_minor": 5
}
