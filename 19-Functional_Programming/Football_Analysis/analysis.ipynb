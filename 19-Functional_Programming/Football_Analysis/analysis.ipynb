{
 "cells": [
  {
   "cell_type": "markdown",
   "id": "ef6ff799",
   "metadata": {},
   "source": [
    "# **Champions League Analysis**"
   ]
  },
  {
   "cell_type": "markdown",
   "id": "eaad7f46",
   "metadata": {},
   "source": [
    "## **Questions**\n",
    "\n",
    "1. Which player scored the most goals?\n",
    "2. Which team scored the most goals in total?\n",
    "3. List all players who scored more than 10 goals.\n",
    "4. Calculate the average goals per player for each team.\n",
    "5. Find the top 3 goal scorers overall.\n",
    "6. Which team has the highest average goals per player?\n"
   ]
  },
  {
   "cell_type": "code",
   "execution_count": 1,
   "id": "70962811",
   "metadata": {},
   "outputs": [],
   "source": [
    "import json"
   ]
  },
  {
   "cell_type": "markdown",
   "id": "e244ce59",
   "metadata": {},
   "source": [
    "### **Load Data**"
   ]
  },
  {
   "cell_type": "code",
   "execution_count": 4,
   "id": "53e1df12",
   "metadata": {},
   "outputs": [],
   "source": [
    "with open(\"footbaall.json\", \"r\", encoding=\"utf-8\") as file:\n",
    "    data = json.load(file)"
   ]
  },
  {
   "cell_type": "markdown",
   "id": "aeb0f51d",
   "metadata": {},
   "source": [
    "<div class=\"alert alert-dark\">\n",
    "    <h3>Question 1</h3>\n",
    "    <p>Which player scored the most goals?</p>\n",
    "</div)>"
   ]
  },
  {
   "cell_type": "code",
   "execution_count": 10,
   "id": "4d0821e7",
   "metadata": {},
   "outputs": [
    {
     "name": "stdout",
     "output_type": "stream",
     "text": [
      "The top scorer is: Raphinha with 13 goals\n"
     ]
    }
   ],
   "source": [
    "from functools import reduce\n",
    "top_scorer = reduce( lambda a, b: a if a['goals'] > b[\"goals\"] else b, data )\n",
    "print(f\"The top scorer is: {top_scorer['name']} with {top_scorer['goals']} goals\")"
   ]
  },
  {
   "cell_type": "markdown",
   "id": "3607ef95",
   "metadata": {},
   "source": [
    "<div class=\"alert alert-dark\">\n",
    "    <h3>Question 2</h3>\n",
    "    <p>Which teamscored the most goals?</p>\n",
    "</div)>"
   ]
  },
  {
   "cell_type": "code",
   "execution_count": 20,
   "id": "1d99c63a",
   "metadata": {},
   "outputs": [
    {
     "name": "stdout",
     "output_type": "stream",
     "text": [
      "The team with mos goals is Real Madrid with 39\n"
     ]
    }
   ],
   "source": [
    "# get goals by team\n",
    "goals_by_team = {}  # empty dictionary [team: \"\", goals:]\n",
    "\n",
    "for team in data:\n",
    "    if team[\"team\"] in goals_by_team:\n",
    "        goals_by_team[team[\"team\"]] += team[\"goals\"]\n",
    "    else:\n",
    "        goals_by_team[team[\"team\"]] = team[\"goals\"]\n",
    "\n",
    "# get max team scorer\n",
    "top_team_scorer = max( goals_by_team, key=goals_by_team.get )\n",
    "print(f\"The team with mos goals is {top_team_scorer} with {goals_by_team[top_team_scorer]}\")"
   ]
  },
  {
   "cell_type": "markdown",
   "id": "4750d671",
   "metadata": {},
   "source": [
    "<div class=\"alert alert-dark\">\n",
    "    <h3>Question 3</h3>\n",
    "    <p>List all players who scored more than 10 goals.</p>\n",
    "</div)>"
   ]
  },
  {
   "cell_type": "code",
   "execution_count": 24,
   "id": "e504428a",
   "metadata": {},
   "outputs": [
    {
     "name": "stdout",
     "output_type": "stream",
     "text": [
      "The players over 10 goals are: \n",
      "Serhou Guirassy with 13 goals\n",
      "Raphinha with 13 goals\n",
      "Robert Lewandowski with 11 goals\n",
      "Harry Kane with 11 goals\n"
     ]
    }
   ],
   "source": [
    "players = list(filter( lambda p: p[\"goals\"] > 10, data ))\n",
    "print(f\"The players over 10 goals are: \")\n",
    "for player in players:\n",
    "    print(f\"{player[\"name\"]} with {player[\"goals\"]} goals\")"
   ]
  },
  {
   "cell_type": "markdown",
   "id": "d1887a02",
   "metadata": {},
   "source": [
    "<div class=\"alert alert-dark\">\n",
    "    <h3>Question 4</h3>\n",
    "    <p>Calculate the average of goals per team.</p>\n",
    "</div)>"
   ]
  },
  {
   "cell_type": "code",
   "execution_count": 29,
   "id": "c4e97839",
   "metadata": {},
   "outputs": [
    {
     "name": "stdout",
     "output_type": "stream",
     "text": [
      "Avg goals per player in each team: \n",
      "Borussia Dortmund: 9.5 goals per player\n",
      "FC Barcelona: 9.0 goals per player\n",
      "Bayern Munich: 8.5 goals per player\n",
      "Inter Milan: 7.5 goals per player\n",
      "Paris Saint-Germain: 6.4 goals per player\n",
      "Manchester City: 7.0 goals per player\n",
      "Real Madrid: 6.5 goals per player\n",
      "Lille OSC: 6.5 goals per player\n",
      "Atlético de Madrid: 6.5 goals per player\n",
      "Benfica: 6.333333333333333 goals per player\n"
     ]
    }
   ],
   "source": [
    "avg_goals_by_team = {}   # {team: {goals: 0, count: 1}}\n",
    "\n",
    "for team in data:\n",
    "    if team[\"team\"] not in avg_goals_by_team:\n",
    "        avg_goals_by_team[team[\"team\"]] = {\"goals\": team[\"goals\"], \"count\": 1}\n",
    "    else:\n",
    "        avg_goals_by_team[team[\"team\"]][\"goals\"] += team[\"goals\"]\n",
    "        avg_goals_by_team[team[\"team\"]][\"count\"] += 1 \n",
    "avg_goals_by_team\n",
    "\n",
    "# calculate the avg goals per team\n",
    "print(\"Avg goals per player in each team: \")\n",
    "for team, stats in avg_goals_by_team.items():\n",
    "    avg_goals = stats[\"goals\"] / stats[\"count\"]\n",
    "    print(f\"{team}: {avg_goals} goals per player\")"
   ]
  },
  {
   "cell_type": "markdown",
   "id": "02d4641c",
   "metadata": {},
   "source": [
    "<div class=\"alert alert-dark\">\n",
    "    <h3>Question 5</h3>\n",
    "    <p>Find the top 3 scorers overall</p>\n",
    "</div)>"
   ]
  },
  {
   "cell_type": "code",
   "execution_count": 33,
   "id": "cd458a5b",
   "metadata": {},
   "outputs": [
    {
     "name": "stdout",
     "output_type": "stream",
     "text": [
      "Serhou Guirassy with 13\n",
      "Raphinha with 13\n",
      "Robert Lewandowski with 11\n"
     ]
    }
   ],
   "source": [
    "top3_scorers = sorted( data, key=lambda x: x[\"goals\"], reverse=True )\n",
    "for top3 in top3_scorers[:3]:\n",
    "    print(f\"{top3[\"name\"]} with {top3[\"goals\"]}\")"
   ]
  },
  {
   "cell_type": "markdown",
   "id": "8401c7f3",
   "metadata": {},
   "source": [
    "<div class=\"alert alert-dark\">\n",
    "    <h3>Question 6</h3>\n",
    "    <p>Which team has the highest average goals per player</p>\n",
    "</div)>"
   ]
  },
  {
   "cell_type": "code",
   "execution_count": 44,
   "id": "63f7ae51",
   "metadata": {},
   "outputs": [
    {
     "name": "stdout",
     "output_type": "stream",
     "text": [
      "Team with highest average goals per player: Borussia Dortmund (9.50 goals per player)\n"
     ]
    }
   ],
   "source": [
    "# Compute average goals per team on the fly and find max\n",
    "top_team = max(\n",
    "    avg_goals_by_team,\n",
    "    key=lambda team: avg_goals_by_team[team][\"goals\"] / avg_goals_by_team[team][\"count\"]\n",
    ")\n",
    "\n",
    "top_avg = avg_goals_by_team[top_team][\"goals\"] / avg_goals_by_team[top_team][\"count\"]\n",
    "\n",
    "print(f\"Team with highest average goals per player: {top_team} ({top_avg:.2f} goals per player)\")\n"
   ]
  },
  {
   "cell_type": "code",
   "execution_count": null,
   "id": "e1503f66",
   "metadata": {},
   "outputs": [],
   "source": []
  }
 ],
 "metadata": {
  "kernelspec": {
   "display_name": ".venv",
   "language": "python",
   "name": "python3"
  },
  "language_info": {
   "codemirror_mode": {
    "name": "ipython",
    "version": 3
   },
   "file_extension": ".py",
   "mimetype": "text/x-python",
   "name": "python",
   "nbconvert_exporter": "python",
   "pygments_lexer": "ipython3",
   "version": "3.13.7"
  }
 },
 "nbformat": 4,
 "nbformat_minor": 5
}
