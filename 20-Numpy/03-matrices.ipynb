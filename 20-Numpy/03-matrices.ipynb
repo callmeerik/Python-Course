{
 "cells": [
  {
   "cell_type": "markdown",
   "metadata": {},
   "source": [
    "# 🧮 **Matrices & Linear Systems**\n",
    "This notebook covers the basics of matrices, operations, determinants, inverses, and solving linear systems with NumPy."
   ]
  },
  {
   "cell_type": "code",
   "execution_count": null,
   "id": "243c1c65",
   "metadata": {},
   "outputs": [],
   "source": [
    "import numpy as np"
   ]
  },
  {
   "cell_type": "markdown",
   "metadata": {},
   "source": [
    "## **1️⃣ Creating Matrices 🏗️**"
   ]
  },
  {
   "cell_type": "code",
   "execution_count": null,
   "metadata": {},
   "outputs": [],
   "source": [
    "# 2x3 matrix\n",
    "matrix = np.array([[1,2,3],[4,5,6]])\n",
    "print('Matrix:', matrix)\n",
    "\n",
    "# Identity and zero matrices\n",
    "identity = np.identity(3)\n",
    "zeros = np.zeros((2,3))\n",
    "print('Identity:', identity)\n",
    "print('Zeros:', zeros)"
   ]
  },
  {
   "cell_type": "markdown",
   "metadata": {},
   "source": [
    "## **2️⃣ Matrix Operations ➕➖✖️**"
   ]
  },
  {
   "cell_type": "code",
   "execution_count": null,
   "metadata": {},
   "outputs": [],
   "source": [
    "A = np.array([[1,2],[3,4]])\n",
    "B = np.array([[5,6],[7,8]])\n",
    "\n",
    "print('A + B =', A+B)\n",
    "print('A - B =', A-B)\n",
    "print('A * 2 =', A*2)\n",
    "print('A @ B (matrix multiplication) =', A@B)"
   ]
  },
  {
   "cell_type": "markdown",
   "metadata": {},
   "source": [
    "## **3️⃣ Transpose & Shape 🔄**"
   ]
  },
  {
   "cell_type": "code",
   "execution_count": null,
   "metadata": {},
   "outputs": [],
   "source": [
    "print('Transpose of A:', A.T)\n",
    "print('Shape of A:', A.shape)"
   ]
  },
  {
   "cell_type": "markdown",
   "metadata": {},
   "source": [
    "## **4️⃣ Determinant & Inverse ⚡**"
   ]
  },
  {
   "cell_type": "code",
   "execution_count": null,
   "metadata": {},
   "outputs": [],
   "source": [
    "det_A = np.linalg.det(A)\n",
    "inv_A = np.linalg.inv(A)\n",
    "print('Determinant of A =', det_A)\n",
    "print('Inverse of A:', inv_A)"
   ]
  },
  {
   "cell_type": "markdown",
   "metadata": {},
   "source": [
    "## **5️⃣ Solving Linear Systems 📝**"
   ]
  },
  {
   "cell_type": "code",
   "execution_count": null,
   "metadata": {},
   "outputs": [],
   "source": [
    "# Solve Ax = b\n",
    "b = np.array([5,11])\n",
    "x = np.linalg.solve(A, b)\n",
    "print('Solution x =', x)\n",
    "# Verify\n",
    "print('Check Ax = b:', A @ x)"
   ]
  },
  {
   "cell_type": "markdown",
   "metadata": {},
   "source": [
    "## **6️⃣ Exercises 🏋️**\n",
    "1. Create a 3x3 matrix and find its determinant.\n",
    "2. Find the inverse of a given 2x2 matrix.\n",
    "3. Solve the linear system: [[2,3],[1,2]]x = [8,5]."
   ]
  }
 ],
 "metadata": {
  "kernelspec": {
   "display_name": "Python 3",
   "language": "python",
   "name": "python3"
  },
  "language_info": {
   "name": "python",
   "version": "3.11"
  }
 },
 "nbformat": 4,
 "nbformat_minor": 5
}
