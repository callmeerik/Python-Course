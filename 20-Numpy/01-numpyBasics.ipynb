{
 "cells": [
  {
   "cell_type": "markdown",
   "metadata": {},
   "source": [
    "# **NumPy Basics Tutorial**\n",
    "This notebook covers the basics of NumPy: creating arrays, indexing, slicing, broadcasting, arithmetic, aggregation functions, and built-in array creation."
   ]
  },
  {
   "cell_type": "markdown",
   "metadata": {},
   "source": [
    "## What is NumPy?\n",
    "NumPy is a Python library for numerical computing. It provides support for arrays, matrices, and a large collection of high-level mathematical functions."
   ]
  },
  {
   "cell_type": "code",
   "execution_count": 1,
   "metadata": {},
   "outputs": [],
   "source": [
    "import numpy as np"
   ]
  },
  {
   "cell_type": "markdown",
   "metadata": {},
   "source": [
    "## Creating Arrays from Lists and Tuples"
   ]
  },
  {
   "cell_type": "code",
   "execution_count": null,
   "metadata": {},
   "outputs": [],
   "source": [
    "# From list\n",
    "list_array = np.array([1, 2, 3, 4])\n",
    "print('Array from list:', list_array)\n",
    "\n",
    "# From tuple\n",
    "tuple_array = np.array((5, 6, 7, 8))\n",
    "print('Array from tuple:', tuple_array)"
   ]
  },
  {
   "cell_type": "markdown",
   "metadata": {},
   "source": [
    "## Built-in Array Creation"
   ]
  },
  {
   "cell_type": "code",
   "execution_count": null,
   "metadata": {},
   "outputs": [],
   "source": [
    "zeros_array = np.zeros((3,3))\n",
    "print('Zeros array:', zeros_array)\n",
    "\n",
    "ones_array = np.ones((2,4))\n",
    "print('Ones array:', ones_array)\n",
    "\n",
    "eye_array = np.eye(4)\n",
    "print('Eye array:', eye_array)\n",
    "\n",
    "identity_matrix = np.identity(3)\n",
    "print('Identity matrix:', identity_matrix)\n",
    "\n",
    "arange_array = np.arange(0,10,2)\n",
    "print('Arange array:', arange_array)\n",
    "\n",
    "linspace_array = np.linspace(0,1,5)\n",
    "print('Linspace array:', linspace_array)"
   ]
  },
  {
   "cell_type": "markdown",
   "metadata": {},
   "source": [
    "## Creating 2D Arrays (Matrices)"
   ]
  },
  {
   "cell_type": "code",
   "execution_count": null,
   "metadata": {},
   "outputs": [],
   "source": [
    "matrix = np.array([[1, 2, 3], [4, 5, 6], [7, 8, 9]])\n",
    "print('Matrix:', matrix)"
   ]
  },
  {
   "cell_type": "markdown",
   "metadata": {},
   "source": [
    "## Indexing and Slicing"
   ]
  },
  {
   "cell_type": "code",
   "execution_count": null,
   "metadata": {},
   "outputs": [],
   "source": [
    "# Access element\n",
    "print('Element at row 1, col 2:', matrix[0,1])  # 0-based indexing\n",
    "\n",
    "# Slice rows\n",
    "print('First two rows:', matrix[:2])\n",
    "\n",
    "# Slice columns\n",
    "print('First two columns:', matrix[:,:2])\n",
    "\n",
    "# Slice submatrix\n",
    "print('Submatrix:', matrix[0:2,1:3])"
   ]
  },
  {
   "cell_type": "markdown",
   "metadata": {},
   "source": [
    "## Arithmetic Operations"
   ]
  },
  {
   "cell_type": "code",
   "execution_count": null,
   "metadata": {},
   "outputs": [],
   "source": [
    "a = np.array([1,2,3])\n",
    "b = np.array([4,5,6])\n",
    "\n",
    "print('Addition:', a + b)\n",
    "print('Subtraction:', a - b)\n",
    "print('Multiplication:', a * b)\n",
    "print('Division:', a / b)"
   ]
  },
  {
   "cell_type": "markdown",
   "metadata": {},
   "source": [
    "## Broadcasting"
   ]
  },
  {
   "cell_type": "code",
   "execution_count": null,
   "metadata": {},
   "outputs": [],
   "source": [
    "matrix = np.array([[1,2,3],[4,5,6]])\n",
    "vector = np.array([1,0,1])\n",
    "print('Matrix:', matrix)\n",
    "print('Vector:', vector)\n",
    "print('Broadcasted addition:', matrix + vector)"
   ]
  },
  {
   "cell_type": "markdown",
   "metadata": {},
   "source": [
    "## Aggregation Functions"
   ]
  },
  {
   "cell_type": "code",
   "execution_count": null,
   "metadata": {},
   "outputs": [],
   "source": [
    "matrix = np.array([[1,2,3],[4,5,6]])\n",
    "print('Sum of all elements:', np.sum(matrix))\n",
    "print('Mean of all elements:', np.mean(matrix))\n",
    "print('Maximum element:', np.max(matrix))\n",
    "print('Minimum element:', np.min(matrix))\n",
    "print('Sum along columns:', np.sum(matrix, axis=0))\n",
    "print('Sum along rows:', np.sum(matrix, axis=1))"
   ]
  }
 ],
 "metadata": {
  "kernelspec": {
   "display_name": ".venv",
   "language": "python",
   "name": "python3"
  },
  "language_info": {
   "codemirror_mode": {
    "name": "ipython",
    "version": 3
   },
   "file_extension": ".py",
   "mimetype": "text/x-python",
   "name": "python",
   "nbconvert_exporter": "python",
   "pygments_lexer": "ipython3",
   "version": "3.13.7"
  }
 },
 "nbformat": 4,
 "nbformat_minor": 5
}
