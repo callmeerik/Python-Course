{
 "cells": [
  {
   "cell_type": "markdown",
   "metadata": {},
   "source": [
    "# 📐 **Vectors & Vector Operations**\n",
    "This notebook covers all essential concepts about vectors for Machine Learning, including operations, distances, and geometric interpretations."
   ]
  },
  {
   "cell_type": "markdown",
   "metadata": {},
   "source": [
    "## **1️⃣ What is a Vector?**\n",
    "A vector is a quantity that has both **magnitude** and **direction**. In ML, vectors represent features, points in space, or weights."
   ]
  },
  {
   "cell_type": "code",
   "metadata": {},
   "source": [
    "import numpy as np"
   ],
   "outputs": []
  },
  {
   "cell_type": "markdown",
   "metadata": {},
   "source": [
    "## **2️⃣ Creating Vectors with NumPy**"]
  },
  {
   "cell_type": "code",
   "metadata": {},
   "source": [
    "# 1D vector from a list\n",
    "v1 = np.array([1, 2, 3])\n",
    "print('Vector v1:', v1)\n",
    "\n",
    "# 1D vector from a tuple\n",
    "v2 = np.array((4, 5, 6))\n",
    "print('Vector v2:', v2)"
   ],
   "outputs": []
  },
  {
   "cell_type": "markdown",
   "metadata": {},
   "source": [
    "## **3️⃣ Vector Operations ✖️➕➖**"]
  },
  {
   "cell_type": "code",
   "metadata": {},
   "source": [
    "# Addition\n",
    "add = v1 + v2\n",
    "print('v1 + v2 =', add)\n",
    "\n",
    "# Subtraction\n",
    "sub = v1 - v2\n",
    "print('v1 - v2 =', sub)\n",
    "\n",
    "# Scalar multiplication\n",
    "scalar = 3 * v1\n",
    "print('3 * v1 =', scalar)"
   ],
   "outputs": []
  },
  {
   "cell_type": "markdown",
   "metadata": {},
   "source": [
    "## **4️⃣ Dot Product & Cross Product 🟰**"]
  },
  {
   "cell_type": "code",
   "metadata": {},
   "source": [
    "# Dot product\n",
    "dot = np.dot(v1, v2)\n",
    "print('Dot product v1·v2 =', dot)\n",
    "\n",
    "# Cross product (only for 3D vectors)\n",
    "cross = np.cross(v1, v2)\n",
    "print('Cross product v1 x v2 =', cross)"
   ],
   "outputs": []
  },
  {
   "cell_type": "markdown",
   "metadata": {},
   "source": [
    "## **5️⃣ Norm / Magnitude of a Vector 📏**"]
  },
  {
   "cell_type": "code",
   "metadata": {},
   "source": [
    "norm_v1 = np.linalg.norm(v1)\n",
    "print('||v1|| =', norm_v1)"
   ],
   "outputs": []
  },
  {
   "cell_type": "markdown",
   "metadata": {},
   "source": [
    "## **6️⃣ Distance Between Points 📍**"]
  },
  {
   "cell_type": "code",
   "metadata": {},
   "source": [
    "point1 = np.array([1,2])\n",
    "point2 = np.array([4,6])\n",
    "distance = np.linalg.norm(point1 - point2)\n",
    "print('Distance between points =', distance)"
   ],
   "outputs": []
  },
  {
   "cell_type": "markdown",
   "metadata": {},
   "source": [
    "## **7️⃣ Distance from a Point to a Line 📏**"]
  },
  {
   "cell_type": "code",
   "metadata": {},
   "source": [
    "# Line defined by ax + by + c = 0\n",
    "a, b, c = 2, -1, -3\n",
    "point = np.array([3, 2])\n",
    "distance_to_line = abs(a*point[0] + b*point[1] + c) / np.sqrt(a**2 + b**2)\n",
    "print('Distance from point to line =', distance_to_line)"
   ],
   "outputs": []
  },
  {
   "cell_type": "markdown",
   "metadata": {},
   "source": [
    "## **8️⃣ Exercises 📝**\n",
    "1. Create two vectors and calculate their dot and cross product.\n",
    "2. Compute the distance between points (2,3) and (5,7).\n",
    "3. Find the norm of the vector [3,4,5]."
   ]
  }
 ],
 "metadata": {
  "kernelspec": {"display_name": "Python 3", "language": "python", "name": "python3"},
  "language_info": {"name": "python", "version": "3.11"}
 },
 "nbformat": 4,
 "nbformat_minor": 5
}
