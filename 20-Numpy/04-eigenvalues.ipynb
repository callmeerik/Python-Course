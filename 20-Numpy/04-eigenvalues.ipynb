{
 "cells": [
  {
   "cell_type": "markdown",
   "metadata": {},
   "source": [
    "# 🔑 **Eigenvalues, Eigenvectors & Orthogonality**\n",
    "This notebook covers eigenvalues, eigenvectors, diagonalization, orthogonality, projections, and normal vectors for ML applications."
   ]
  },
  {
   "cell_type": "code",
   "execution_count": 1,
   "id": "99cfd270",
   "metadata": {},
   "outputs": [],
   "source": [
    "import numpy as np"
   ]
  },
  {
   "cell_type": "markdown",
   "metadata": {},
   "source": [
    "## **1️⃣ Eigenvalues & Eigenvectors 🌟**"
   ]
  },
  {
   "cell_type": "code",
   "execution_count": null,
   "metadata": {},
   "outputs": [],
   "source": [
    "A = np.array([[4,2],[1,3]])\n",
    "eigenvalues, eigenvectors = np.linalg.eig(A)\n",
    "print('Matrix A:', A)\n",
    "print('Eigenvalues:', eigenvalues)\n",
    "print('Eigenvectors:', eigenvectors)"
   ]
  },
  {
   "cell_type": "markdown",
   "metadata": {},
   "source": [
    "## **2️⃣ Diagonalization 🟩**"
   ]
  },
  {
   "cell_type": "code",
   "execution_count": null,
   "metadata": {},
   "outputs": [],
   "source": [
    "D = np.diag(eigenvalues)\n",
    "V = eigenvectors\n",
    "V_inv = np.linalg.inv(V)\n",
    "# Verify diagonalization\n",
    "print('V D V^-1:', V @ D @ V_inv)\n",
    "print('Original A:', A)"
   ]
  },
  {
   "cell_type": "markdown",
   "metadata": {},
   "source": [
    "## **3️⃣ Orthogonality & Projections ✖️➗**"
   ]
  },
  {
   "cell_type": "code",
   "execution_count": null,
   "metadata": {},
   "outputs": [],
   "source": [
    "# Orthogonal vectors example\n",
    "v1 = np.array([1,0])\n",
    "v2 = np.array([0,1])\n",
    "dot = np.dot(v1,v2)\n",
    "print('Dot product v1·v2 =', dot, '(0 means orthogonal)')\n",
    "\n",
    "# Projection of vector u onto v\n",
    "u = np.array([3,4])\n",
    "v = np.array([1,0])\n",
    "projection = (np.dot(u,v)/np.dot(v,v))*v\n",
    "print('Projection of u onto v =', projection)"
   ]
  },
  {
   "cell_type": "markdown",
   "metadata": {},
   "source": [
    "## **4️⃣ Normal Vectors & Planes 📐**"
   ]
  },
  {
   "cell_type": "code",
   "execution_count": null,
   "metadata": {},
   "outputs": [],
   "source": [
    "# Plane equation ax + by + cz = d\n",
    "normal_vector = np.array([2,-1,3])\n",
    "point_on_plane = np.array([1,0,0])\n",
    "d = np.dot(normal_vector, point_on_plane)\n",
    "print('Normal vector:', normal_vector)\n",
    "print('Plane equation: 2x - y + 3z =', d)"
   ]
  },
  {
   "cell_type": "markdown",
   "metadata": {},
   "source": [
    "## **5️⃣ Exercises 🏋️**\n",
    "1. Compute eigenvalues and eigenvectors of [[3,1],[0,2]].\n",
    "2. Verify diagonalization for the above matrix.\n",
    "3. Project the vector [2,3] onto [1,1].\n",
    "4. Check if vectors [1,0,0] and [0,1,0] are orthogonal."
   ]
  }
 ],
 "metadata": {
  "kernelspec": {
   "display_name": ".venv",
   "language": "python",
   "name": "python3"
  },
  "language_info": {
   "codemirror_mode": {
    "name": "ipython",
    "version": 3
   },
   "file_extension": ".py",
   "mimetype": "text/x-python",
   "name": "python",
   "nbconvert_exporter": "python",
   "pygments_lexer": "ipython3",
   "version": "3.13.7"
  }
 },
 "nbformat": 4,
 "nbformat_minor": 5
}
