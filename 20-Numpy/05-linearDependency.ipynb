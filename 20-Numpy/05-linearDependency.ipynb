{
 "cells": [
  {
   "cell_type": "markdown",
   "metadata": {},
   "source": [
    "# 📏 **Linear Dependency & Basis**\n",
    "This notebook covers linear independence, dependence, basis, dimension, and rank of matrices for ML applications."
   ]
  },
  {
   "cell_type": "code",
   "execution_count": 1,
   "id": "a8d173b1",
   "metadata": {},
   "outputs": [],
   "source": [
    "import numpy as np"
   ]
  },
  {
   "cell_type": "markdown",
   "metadata": {},
   "source": [
    "## **1️⃣ Linear Independence & Dependence ✖️**"
   ]
  },
  {
   "cell_type": "code",
   "execution_count": null,
   "metadata": {},
   "outputs": [],
   "source": [
    "# Example vectors\n",
    "v1 = np.array([1,0,0])\n",
    "v2 = np.array([0,1,0])\n",
    "v3 = np.array([1,1,0])\n",
    "\n",
    "# Stack vectors as columns of a matrix\n",
    "matrix = np.column_stack((v1,v2,v3))\n",
    "rank = np.linalg.matrix_rank(matrix)\n",
    "print('Matrix:', matrix)\n",
    "print('Rank of matrix =', rank)\n",
    "print('Number of vectors =', matrix.shape[1])\n",
    "if rank == matrix.shape[1]:\n",
    "    print('Vectors are linearly independent')\n",
    "else:\n",
    "    print('Vectors are linearly dependent')"
   ]
  },
  {
   "cell_type": "markdown",
   "metadata": {},
   "source": [
    "## **2️⃣ Basis & Dimension 🌐**"
   ]
  },
  {
   "cell_type": "code",
   "execution_count": null,
   "metadata": {},
   "outputs": [],
   "source": [
    "# Basis of R^3 example\n",
    "basis = np.identity(3)\n",
    "print('Basis vectors of R^3:', basis)\n",
    "print('Dimension =', basis.shape[0])"
   ]
  },
  {
   "cell_type": "markdown",
   "metadata": {},
   "source": [
    "## **3️⃣ Rank of a Matrix 🏷️**"
   ]
  },
  {
   "cell_type": "code",
   "execution_count": null,
   "metadata": {},
   "outputs": [],
   "source": [
    "M = np.array([[1,2,3],[4,5,6],[7,8,9]])\n",
    "print('Matrix M:', M)\n",
    "print('Rank of M =', np.linalg.matrix_rank(M))"
   ]
  },
  {
   "cell_type": "markdown",
   "metadata": {},
   "source": [
    "## **4️⃣ Exercises 🏋️**\n",
    "1. Check if vectors [1,2,0], [0,1,1], [1,3,1] are linearly independent.\n",
    "2. Find a basis for R^2.\n",
    "3. Compute the rank of [[1,2],[2,4]]."
   ]
  }
 ],
 "metadata": {
  "kernelspec": {
   "display_name": ".venv",
   "language": "python",
   "name": "python3"
  },
  "language_info": {
   "codemirror_mode": {
    "name": "ipython",
    "version": 3
   },
   "file_extension": ".py",
   "mimetype": "text/x-python",
   "name": "python",
   "nbconvert_exporter": "python",
   "pygments_lexer": "ipython3",
   "version": "3.13.7"
  }
 },
 "nbformat": 4,
 "nbformat_minor": 5
}
